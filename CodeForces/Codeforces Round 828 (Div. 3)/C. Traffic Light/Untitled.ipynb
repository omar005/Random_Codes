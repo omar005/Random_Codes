{
 "cells": [
  {
   "cell_type": "code",
   "execution_count": 12,
   "id": "7c383f3b-5717-46d7-b480-b6a1bf17426d",
   "metadata": {},
   "outputs": [
    {
     "name": "stdin",
     "output_type": "stream",
     "text": [
      " 6\n",
      " 5 r\n",
      " rggry\n"
     ]
    },
    {
     "name": "stdout",
     "output_type": "stream",
     "text": [
      "3\n"
     ]
    },
    {
     "name": "stdin",
     "output_type": "stream",
     "text": [
      " 1 g\n",
      " g\n"
     ]
    },
    {
     "name": "stdout",
     "output_type": "stream",
     "text": [
      "0\n"
     ]
    },
    {
     "name": "stdin",
     "output_type": "stream",
     "text": [
      " 3 r\n",
      " rrg\n"
     ]
    },
    {
     "name": "stdout",
     "output_type": "stream",
     "text": [
      "2\n"
     ]
    },
    {
     "name": "stdin",
     "output_type": "stream",
     "text": [
      " 5 y\n",
      " yrrgy\n"
     ]
    },
    {
     "name": "stdout",
     "output_type": "stream",
     "text": [
      "4\n"
     ]
    },
    {
     "name": "stdin",
     "output_type": "stream",
     "text": [
      " 7 r\n",
      " rgrgyrg\n"
     ]
    },
    {
     "name": "stdout",
     "output_type": "stream",
     "text": [
      "1\n"
     ]
    },
    {
     "name": "stdin",
     "output_type": "stream",
     "text": [
      " 9 y\n",
      " rrrgyyygy\n"
     ]
    },
    {
     "name": "stdout",
     "output_type": "stream",
     "text": [
      "4\n"
     ]
    }
   ],
   "source": [
    "t = int(input())  # Read the number of test cases\n",
    "\n",
    "for _ in range(t):\n",
    "    n,c = input().split() \n",
    "    a = [char for char in input()] \n",
    "    if c == 'g':\n",
    "        print(0)\n",
    "        continue\n",
    "    dick = {}\n",
    "    max_dist = 0\n",
    "    first_occurance_flag = 0\n",
    "    for i in range(int(n)):\n",
    "        if  first_occurance_flag == 0:\n",
    "            if a[i] == c:\n",
    "                first_occurance_flag = 1\n",
    "        else:\n",
    "            if a[i] == 'g': \n",
    "                if max_dist < first_occurance_flag:\n",
    "                    max_dist = first_occurance_flag\n",
    "                first_occurance_flag = 0\n",
    "            else:\n",
    "                first_occurance_flag +=1\n",
    "    if first_occurance_flag > 0:\n",
    "        for i in range(int(n)):\n",
    "            if a[i] == 'g':\n",
    "                if max_dist < first_occurance_flag:\n",
    "                    max_dist = first_occurance_flag\n",
    "                break\n",
    "            else:\n",
    "                    first_occurance_flag +=1\n",
    "    print(max_dist)"
   ]
  },
  {
   "cell_type": "code",
   "execution_count": null,
   "id": "b3b08012-7293-45db-a570-402f99f82848",
   "metadata": {},
   "outputs": [],
   "source": [
    "        if a[i] == 'g' and not (a[i-1] == 'g' and a[i-1] == 'g'):\n",
    "            dick[g] = i\n",
    "        elif a[i] == c and not (a[i-1] == c and a[i-1] == c)\n",
    "            dick[g] = i"
   ]
  }
 ],
 "metadata": {
  "kernelspec": {
   "display_name": "Python 3 (ipykernel)",
   "language": "python",
   "name": "python3"
  },
  "language_info": {
   "codemirror_mode": {
    "name": "ipython",
    "version": 3
   },
   "file_extension": ".py",
   "mimetype": "text/x-python",
   "name": "python",
   "nbconvert_exporter": "python",
   "pygments_lexer": "ipython3",
   "version": "3.8.19"
  }
 },
 "nbformat": 4,
 "nbformat_minor": 5
}
