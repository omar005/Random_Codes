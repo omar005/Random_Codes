{
 "cells": [
  {
   "cell_type": "code",
   "execution_count": 63,
   "id": "1fd1c2cf",
   "metadata": {},
   "outputs": [],
   "source": [
    "def count_twos_in_prime_factors(num):\n",
    "    if num <= 0:\n",
    "        return 0\n",
    "    return len(bin(num & -num)) - 3"
   ]
  },
  {
   "cell_type": "code",
   "execution_count": 64,
   "id": "a86bd2b9",
   "metadata": {},
   "outputs": [],
   "source": [
    "def pos_prod (n):\n",
    "    arr_=[]\n",
    "    for i in range(n):\n",
    "        arr_.append(i+1)\n",
    "    return arr_"
   ]
  },
  {
   "cell_type": "code",
   "execution_count": 65,
   "id": "cd95ecd6",
   "metadata": {},
   "outputs": [],
   "source": [
    "def solve(arr,n):\n",
    "    prod = math.prod(a)\n",
    "    if ((prod/ (2**n)) %1) == 0:\n",
    "        return 0\n",
    "    count_twos_in_prod = count_twos_in_prime_factors(prod)\n",
    "    pos_prod_arr = pos_prod(n)\n",
    "    count_twos_in_pos_prod_arr_arr = [count_twos_in_prime_factors(num) for num in pos_prod_arr]\n",
    "    count_twos_in_pos_prod_arr = sum(count_twos_in_pos_prod_arr_arr)\n",
    "    if (count_twos_in_prod+count_twos_in_pos_prod_arr)<n:\n",
    "        return -1\n",
    "    count_twos_in_pos_prod_arr_arr_sorted = sorted(count_twos_in_pos_prod_arr_arr,reverse=True)\n",
    "    init_sum = 0\n",
    "    for i in range(n):\n",
    "        init_sum += count_twos_in_pos_prod_arr_arr_sorted[i]\n",
    "        if (init_sum + count_twos_in_prod) >= n:\n",
    "            return(1+i)\n",
    "\n",
    "    "
   ]
  },
  {
   "cell_type": "code",
   "execution_count": 67,
   "id": "50644360-f76c-45b0-b8d2-f9ca1762d310",
   "metadata": {},
   "outputs": [
    {
     "name": "stdout",
     "output_type": "stream",
     "text": [
      "1\n",
      "3\n",
      "3 3 6\n",
      "-1\n"
     ]
    }
   ],
   "source": [
    "import math\n",
    "t = int(input())  # Read the number of test cases\n",
    " \n",
    "for _ in range(t):\n",
    "    n = int(input())\n",
    "    a = list(map(int, input().split())) \n",
    "    print(solve(a,n))\n"
   ]
  },
  {
   "cell_type": "code",
   "execution_count": null,
   "id": "b9c67180",
   "metadata": {},
   "outputs": [],
   "source": [
    "1"
   ]
  },
  {
   "cell_type": "code",
   "execution_count": 40,
   "id": "733289aa",
   "metadata": {},
   "outputs": [
    {
     "data": {
      "text/plain": [
       "[696, 121, 9, 8, 7, 5, 4, 3, 3, 2]"
      ]
     },
     "execution_count": 40,
     "metadata": {},
     "output_type": "execute_result"
    }
   ],
   "source": [
    "sorted([2,3,4,5,3,121,696,7,8,9],"
   ]
  },
  {
   "cell_type": "code",
   "execution_count": 10,
   "id": "6d42742b",
   "metadata": {},
   "outputs": [
    {
     "name": "stdout",
     "output_type": "stream",
     "text": [
      "[2, 3, 4]\n"
     ]
    }
   ],
   "source": [
    "x=[2,3,4,5,3,121,696,7,8,9]\n",
    "print(x[:3])"
   ]
  },
  {
   "cell_type": "code",
   "execution_count": 8,
   "id": "0422ec4b",
   "metadata": {},
   "outputs": [
    {
     "data": {
      "text/plain": [
       "64"
      ]
     },
     "execution_count": 8,
     "metadata": {},
     "output_type": "execute_result"
    }
   ],
   "source": [
    "2**6"
   ]
  },
  {
   "cell_type": "code",
   "execution_count": 11,
   "id": "a4f1eadb",
   "metadata": {},
   "outputs": [
    {
     "data": {
      "text/plain": [
       "0"
      ]
     },
     "execution_count": 11,
     "metadata": {},
     "output_type": "execute_result"
    }
   ],
   "source": [
    "count_twos_in_prime_factors(65)"
   ]
  },
  {
   "cell_type": "code",
   "execution_count": 59,
   "id": "f2665985",
   "metadata": {},
   "outputs": [
    {
     "name": "stdout",
     "output_type": "stream",
     "text": [
      "1\n",
      "2\n"
     ]
    }
   ],
   "source": [
    "for i in range(1,3):\n",
    "    print(i)"
   ]
  },
  {
   "cell_type": "code",
   "execution_count": 60,
   "id": "c46b860d",
   "metadata": {},
   "outputs": [
    {
     "data": {
      "text/plain": [
       "0"
      ]
     },
     "execution_count": 60,
     "metadata": {},
     "output_type": "execute_result"
    }
   ],
   "source": [
    "count_twos_in_prime_factors(3)"
   ]
  },
  {
   "cell_type": "code",
   "execution_count": 18,
   "id": "2270daae-4766-4de5-9d17-6ebbde39d625",
   "metadata": {},
   "outputs": [
    {
     "name": "stdin",
     "output_type": "stream",
     "text": [
      " 6\n",
      " 1\n",
      " 2\n"
     ]
    },
    {
     "name": "stdout",
     "output_type": "stream",
     "text": [
      "0\n"
     ]
    },
    {
     "name": "stdin",
     "output_type": "stream",
     "text": [
      " 2\n",
      " 3 2\n"
     ]
    },
    {
     "name": "stdout",
     "output_type": "stream",
     "text": [
      "[1, 2]\n",
      "1\n"
     ]
    },
    {
     "name": "stdin",
     "output_type": "stream",
     "text": [
      " 3\n",
      " 10 6 11\n"
     ]
    },
    {
     "name": "stdout",
     "output_type": "stream",
     "text": [
      "[1, 2, 3]\n",
      "1\n"
     ]
    },
    {
     "name": "stdin",
     "output_type": "stream",
     "text": [
      " 4\n",
      " 13 17 1 1\n"
     ]
    },
    {
     "name": "stdout",
     "output_type": "stream",
     "text": [
      "[1, 2, 3, 4]\n",
      "-1\n"
     ]
    },
    {
     "name": "stdin",
     "output_type": "stream",
     "text": [
      " 5\n",
      " 1 1 12 1 1\n"
     ]
    },
    {
     "name": "stdout",
     "output_type": "stream",
     "text": [
      "[1, 2, 3, 4, 5]\n",
      "2\n"
     ]
    },
    {
     "name": "stdin",
     "output_type": "stream",
     "text": [
      " 6\n",
      " 20 7 14 18 3 5\n"
     ]
    },
    {
     "name": "stdout",
     "output_type": "stream",
     "text": [
      "[1, 2, 3, 4, 5, 6]\n",
      "1\n"
     ]
    }
   ],
   "source": [
    "import math\n",
    "class divisible:\n",
    "    def __init__(self):\n",
    "        self.n = 1\n",
    "        self.arr =[1]\n",
    "\n",
    "    def count_twos_in_prime_factors(self,num):\n",
    "        if num <= 0:\n",
    "            return 0\n",
    "        return len(bin(num & -num)) - 3\n",
    "    def pos_prod (self,n):\n",
    "        \n",
    "        for i in range(self.n ,n ):\n",
    "            self.arr.append(i+1)  \n",
    "        self.n = n\n",
    "    def solve(self,arr,n):\n",
    "        #Calculate the product of all the elements of the orginal array\n",
    "        prod = math.prod(a)\n",
    "        if prod % (2**n) == 0:\n",
    "            return 0\n",
    "        #Calculate the number of all the 2's in the prime_factors of the  elements of the orginal array\n",
    "        count_twos_in_prod = self.count_twos_in_prime_factors(prod)\n",
    "        #check if length of array longer than already in memory array\n",
    "        if n > self.n:\n",
    "            self.pos_prod(n) \n",
    "            \n",
    "        twos_arr = self.arr[:n] \n",
    "        count_twos_in_twos_arr = [self.count_twos_in_prime_factors(num) for num in twos_arr]\n",
    "        count_twos_in_pos_prod_arr = sum(count_twos_in_twos_arr)\n",
    "        if (count_twos_in_prod+count_twos_in_pos_prod_arr)<n: \n",
    "            return -1\n",
    "        count_twos_in_pos_prod_arr_arr_sorted = sorted(count_twos_in_twos_arr,reverse=True)\n",
    "        init_sum = 0\n",
    "        for i in range(n):\n",
    "            init_sum += count_twos_in_pos_prod_arr_arr_sorted[i]\n",
    "            if (init_sum + count_twos_in_prod) >= n: \n",
    "                return(1+i)\n",
    "            \n",
    "\n",
    "\n",
    "\n",
    "t = int(input())  # Read the number of test cases\n",
    "d_class=divisible()\n",
    "for _ in range(t):\n",
    "    n = int(input())\n",
    "    a = list(map(int, input().split())) \n",
    "    print(d_class.solve(a,n))\n",
    " "
   ]
  },
  {
   "cell_type": "code",
   "execution_count": null,
   "id": "b1fa22af-7783-405d-ba8e-db2c82daee43",
   "metadata": {},
   "outputs": [],
   "source": [
    "for i in range(10 -1,n):\n",
    "            self.arr.append(i+1) "
   ]
  },
  {
   "cell_type": "code",
   "execution_count": null,
   "id": "90bd4ce0-5308-4ecd-8eac-41d5ac6d3af9",
   "metadata": {},
   "outputs": [],
   "source": [
    "import math\n",
    "from heapq import heappush, heappop\n",
    "\n",
    "class Divisible:\n",
    "    def __init__(self):\n",
    "        self.max_n = 10**6\n",
    "        self.twos_count = [self.count_twos_in_prime_factors(i) for i in range(self.max_n + 1)]\n",
    "    \n",
    "    def count_twos_in_prime_factors(self, num):\n",
    "        if num <= 0:\n",
    "            return 0\n",
    "        return (num & -num).bit_length() - 1\n",
    "    \n",
    "    def solve(self, arr, n):\n",
    "        count_twos_in_arr = sum(self.twos_count[num] if num <= self.max_n else self.count_twos_in_prime_factors(num) for num in arr)\n",
    "        if count_twos_in_arr >= n:\n",
    "            return 0\n",
    "        \n",
    "        heap = []\n",
    "        for i in range(1, n+1):\n",
    "            heappush(heap, -self.twos_count[i])\n",
    "        \n",
    "        extra_twos_needed = n - count_twos_in_arr\n",
    "        count = 0\n",
    "        while extra_twos_needed > 0 and heap:\n",
    "            extra_twos_needed += heappop(heap)\n",
    "            count += 1\n",
    "        \n",
    "        return count if extra_twos_needed <= 0 else -1\n",
    "\n",
    "t = int(input())\n",
    "d_class = Divisible()\n",
    "for _ in range(t):\n",
    "    n = int(input())\n",
    "    a = list(map(int, input().split()))\n",
    "    print(d_class.solve(a, n))"
   ]
  }
 ],
 "metadata": {
  "kernelspec": {
   "display_name": "Python 3 (ipykernel)",
   "language": "python",
   "name": "python3"
  },
  "language_info": {
   "codemirror_mode": {
    "name": "ipython",
    "version": 3
   },
   "file_extension": ".py",
   "mimetype": "text/x-python",
   "name": "python",
   "nbconvert_exporter": "python",
   "pygments_lexer": "ipython3",
   "version": "3.8.19"
  }
 },
 "nbformat": 4,
 "nbformat_minor": 5
}
